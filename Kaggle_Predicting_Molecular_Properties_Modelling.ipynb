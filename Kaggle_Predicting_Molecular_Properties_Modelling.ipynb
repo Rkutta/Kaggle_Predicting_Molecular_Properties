{
 "cells": [
  {
   "cell_type": "code",
   "execution_count": 1,
   "metadata": {},
   "outputs": [],
   "source": [
    "import os\n",
    "import numpy as np\n",
    "import pandas as pd\n",
    "import seaborn as sns\n",
    "\n",
    "%matplotlib inline\n",
    "import matplotlib.pyplot as plt\n",
    "\n",
    "\n",
    "from sklearn.preprocessing import OneHotEncoder\n",
    "from sklearn.preprocessing import StandardScaler\n",
    "\n",
    "from sklearn.model_selection import cross_val_score\n",
    "from sklearn.model_selection import train_test_split\n",
    "from sklearn.model_selection import GridSearchCV\n",
    "from sklearn.model_selection import RandomizedSearchCV\n",
    "from scipy.stats import randint as sp_randint\n",
    "\n",
    "from sklearn.linear_model import SGDRegressor\n",
    "\n",
    "from sklearn.svm import SVR\n",
    "\n",
    "from sklearn.neighbors import KNeighborsRegressor\n",
    "\n",
    "from sklearn.tree import DecisionTreeRegressor\n",
    "\n",
    "from sklearn.ensemble import RandomForestRegressor\n",
    "from sklearn.ensemble import GradientBoostingRegressor\n",
    "from catboost import Pool, CatBoostRegressor\n",
    "\n",
    "from sklearn.metrics import mean_squared_error\n",
    "\n",
    "from joblib import dump, load\n",
    "\n",
    "import pmp_functions as pmp\n",
    "\n",
    "import warnings  \n",
    "warnings.filterwarnings('ignore')"
   ]
  },
  {
   "cell_type": "code",
   "execution_count": null,
   "metadata": {},
   "outputs": [],
   "source": []
  },
  {
   "cell_type": "code",
   "execution_count": 2,
   "metadata": {},
   "outputs": [],
   "source": [
    "#x = uniform(loc=1, scale=5)"
   ]
  },
  {
   "cell_type": "code",
   "execution_count": 3,
   "metadata": {},
   "outputs": [],
   "source": [
    "#x.stats()[0]"
   ]
  },
  {
   "cell_type": "code",
   "execution_count": 4,
   "metadata": {},
   "outputs": [],
   "source": [
    "train_set, test_set, X_train, X_val, y_train, y_val, train_target, X_test, test_id = pmp.processing_pipeline(0, norm='std_scaler')"
   ]
  },
  {
   "cell_type": "code",
   "execution_count": 5,
   "metadata": {},
   "outputs": [],
   "source": [
    "train_data = Pool(data=X_train, label=y_train)"
   ]
  },
  {
   "cell_type": "code",
   "execution_count": 6,
   "metadata": {},
   "outputs": [],
   "source": [
    "val_set = Pool(data=X_val, label=y_val)"
   ]
  },
  {
   "cell_type": "code",
   "execution_count": 7,
   "metadata": {},
   "outputs": [],
   "source": [
    "cataboost = CatBoostRegressor(loss_function='RMSE', iterations=1000,\n",
    "                             random_seed=42, depth=15, boosting_type='Plain',\n",
    "                             thread_count = -1)"
   ]
  },
  {
   "cell_type": "code",
   "execution_count": 8,
   "metadata": {},
   "outputs": [
    {
     "name": "stdout",
     "output_type": "stream",
     "text": [
      "0:\tlearn: 37.2527865\ttotal: 891ms\tremaining: 1m 28s\n",
      "1:\tlearn: 36.1558543\ttotal: 1.73s\tremaining: 1m 24s\n",
      "2:\tlearn: 35.0934870\ttotal: 2.57s\tremaining: 1m 23s\n",
      "3:\tlearn: 34.0635139\ttotal: 3.39s\tremaining: 1m 21s\n",
      "4:\tlearn: 33.0644312\ttotal: 4.17s\tremaining: 1m 19s\n",
      "5:\tlearn: 32.0968616\ttotal: 4.92s\tremaining: 1m 17s\n",
      "6:\tlearn: 31.1575151\ttotal: 5.61s\tremaining: 1m 14s\n",
      "7:\tlearn: 30.2473128\ttotal: 6.4s\tremaining: 1m 13s\n",
      "8:\tlearn: 29.3647522\ttotal: 7.08s\tremaining: 1m 11s\n",
      "9:\tlearn: 28.5095781\ttotal: 7.99s\tremaining: 1m 11s\n",
      "10:\tlearn: 27.6807045\ttotal: 8.8s\tremaining: 1m 11s\n",
      "11:\tlearn: 26.8780373\ttotal: 9.31s\tremaining: 1m 8s\n",
      "12:\tlearn: 26.1008546\ttotal: 9.96s\tremaining: 1m 6s\n",
      "13:\tlearn: 25.3463603\ttotal: 10.8s\tremaining: 1m 6s\n",
      "14:\tlearn: 24.6147272\ttotal: 11.6s\tremaining: 1m 5s\n",
      "15:\tlearn: 23.9070490\ttotal: 12.4s\tremaining: 1m 5s\n",
      "16:\tlearn: 23.2189659\ttotal: 13.1s\tremaining: 1m 4s\n",
      "17:\tlearn: 22.5527270\ttotal: 13.9s\tremaining: 1m 3s\n",
      "18:\tlearn: 21.9071848\ttotal: 14.7s\tremaining: 1m 2s\n",
      "19:\tlearn: 21.2814936\ttotal: 15.4s\tremaining: 1m 1s\n",
      "20:\tlearn: 20.6778088\ttotal: 16.2s\tremaining: 1m\n",
      "21:\tlearn: 20.0918982\ttotal: 17s\tremaining: 1m\n",
      "22:\tlearn: 19.5223108\ttotal: 17.8s\tremaining: 59.5s\n",
      "23:\tlearn: 18.9713986\ttotal: 18.6s\tremaining: 58.8s\n",
      "24:\tlearn: 18.4378428\ttotal: 19.3s\tremaining: 58s\n",
      "25:\tlearn: 17.9208141\ttotal: 20.1s\tremaining: 57.2s\n",
      "26:\tlearn: 17.4206876\ttotal: 20.8s\tremaining: 56.2s\n",
      "27:\tlearn: 16.9381409\ttotal: 21.4s\tremaining: 55.1s\n",
      "28:\tlearn: 16.4703468\ttotal: 22.1s\tremaining: 54s\n",
      "29:\tlearn: 16.0183718\ttotal: 22.8s\tremaining: 53.3s\n",
      "30:\tlearn: 15.5779663\ttotal: 23.7s\tremaining: 52.8s\n",
      "31:\tlearn: 15.1524172\ttotal: 24.5s\tremaining: 52.1s\n",
      "32:\tlearn: 14.7405682\ttotal: 25.3s\tremaining: 51.3s\n",
      "33:\tlearn: 14.3405940\ttotal: 26.1s\tremaining: 50.6s\n",
      "34:\tlearn: 13.9551577\ttotal: 26.8s\tremaining: 49.8s\n",
      "35:\tlearn: 13.5811783\ttotal: 27.8s\tremaining: 49.5s\n",
      "36:\tlearn: 13.2204109\ttotal: 28.9s\tremaining: 49.1s\n",
      "37:\tlearn: 12.8725111\ttotal: 30.2s\tremaining: 49.3s\n",
      "38:\tlearn: 12.5366498\ttotal: 31.3s\tremaining: 49s\n",
      "39:\tlearn: 12.2148092\ttotal: 31.9s\tremaining: 47.9s\n",
      "40:\tlearn: 11.8999964\ttotal: 33s\tremaining: 47.4s\n",
      "41:\tlearn: 11.5953608\ttotal: 34s\tremaining: 47s\n",
      "42:\tlearn: 11.3007751\ttotal: 35.1s\tremaining: 46.5s\n",
      "43:\tlearn: 11.0165319\ttotal: 36s\tremaining: 45.9s\n",
      "44:\tlearn: 10.7417441\ttotal: 36.8s\tremaining: 45s\n",
      "45:\tlearn: 10.4759635\ttotal: 37.5s\tremaining: 44s\n",
      "46:\tlearn: 10.2218973\ttotal: 38.1s\tremaining: 43s\n",
      "47:\tlearn: 9.9752308\ttotal: 38.9s\tremaining: 42.2s\n",
      "48:\tlearn: 9.7379944\ttotal: 40.1s\tremaining: 41.7s\n",
      "49:\tlearn: 9.5081208\ttotal: 41.1s\tremaining: 41.1s\n",
      "50:\tlearn: 9.2868626\ttotal: 41.8s\tremaining: 40.2s\n",
      "51:\tlearn: 9.0733446\ttotal: 42.5s\tremaining: 39.3s\n",
      "52:\tlearn: 8.8678113\ttotal: 43.2s\tremaining: 38.3s\n",
      "53:\tlearn: 8.6702333\ttotal: 44s\tremaining: 37.5s\n",
      "54:\tlearn: 8.4798091\ttotal: 44.8s\tremaining: 36.7s\n",
      "55:\tlearn: 8.2964084\ttotal: 45.6s\tremaining: 35.8s\n",
      "56:\tlearn: 8.1202154\ttotal: 46.3s\tremaining: 34.9s\n",
      "57:\tlearn: 7.9504753\ttotal: 47.1s\tremaining: 34.1s\n",
      "58:\tlearn: 7.7867668\ttotal: 47.8s\tremaining: 33.2s\n",
      "59:\tlearn: 7.6301354\ttotal: 48.6s\tremaining: 32.4s\n",
      "60:\tlearn: 7.4799529\ttotal: 49.5s\tremaining: 31.6s\n",
      "61:\tlearn: 7.3353918\ttotal: 50.4s\tremaining: 30.9s\n",
      "62:\tlearn: 7.1966141\ttotal: 51.1s\tremaining: 30s\n",
      "63:\tlearn: 7.0638124\ttotal: 51.8s\tremaining: 29.2s\n",
      "64:\tlearn: 6.9365558\ttotal: 52.6s\tremaining: 28.3s\n",
      "65:\tlearn: 6.8144127\ttotal: 53.3s\tremaining: 27.5s\n",
      "66:\tlearn: 6.6966540\ttotal: 54.1s\tremaining: 26.6s\n",
      "67:\tlearn: 6.5840253\ttotal: 54.8s\tremaining: 25.8s\n",
      "68:\tlearn: 6.4761337\ttotal: 55.6s\tremaining: 25s\n",
      "69:\tlearn: 6.3729241\ttotal: 56.4s\tremaining: 24.2s\n",
      "70:\tlearn: 6.2735216\ttotal: 57.1s\tremaining: 23.3s\n",
      "71:\tlearn: 6.1789430\ttotal: 57.8s\tremaining: 22.5s\n",
      "72:\tlearn: 6.0884072\ttotal: 58.6s\tremaining: 21.7s\n",
      "73:\tlearn: 6.0022694\ttotal: 59.3s\tremaining: 20.8s\n",
      "74:\tlearn: 5.9199315\ttotal: 1m\tremaining: 20s\n",
      "75:\tlearn: 5.8408144\ttotal: 1m\tremaining: 19.2s\n",
      "76:\tlearn: 5.7649359\ttotal: 1m 1s\tremaining: 18.4s\n",
      "77:\tlearn: 5.6932590\ttotal: 1m 2s\tremaining: 17.5s\n",
      "78:\tlearn: 5.6241080\ttotal: 1m 2s\tremaining: 16.7s\n",
      "79:\tlearn: 5.5587811\ttotal: 1m 3s\tremaining: 15.9s\n",
      "80:\tlearn: 5.4970108\ttotal: 1m 4s\tremaining: 15.1s\n",
      "81:\tlearn: 5.4376973\ttotal: 1m 5s\tremaining: 14.3s\n",
      "82:\tlearn: 5.3814556\ttotal: 1m 5s\tremaining: 13.5s\n",
      "83:\tlearn: 5.3269966\ttotal: 1m 6s\tremaining: 12.8s\n",
      "84:\tlearn: 5.2757953\ttotal: 1m 8s\tremaining: 12s\n",
      "85:\tlearn: 5.2262380\ttotal: 1m 9s\tremaining: 11.2s\n",
      "86:\tlearn: 5.1791355\ttotal: 1m 10s\tremaining: 10.5s\n",
      "87:\tlearn: 5.1353190\ttotal: 1m 11s\tremaining: 9.7s\n",
      "88:\tlearn: 5.0934536\ttotal: 1m 12s\tremaining: 8.91s\n",
      "89:\tlearn: 5.0540093\ttotal: 1m 12s\tremaining: 8.1s\n",
      "90:\tlearn: 5.0170431\ttotal: 1m 13s\tremaining: 7.26s\n",
      "91:\tlearn: 4.9810489\ttotal: 1m 14s\tremaining: 6.48s\n",
      "92:\tlearn: 4.9468945\ttotal: 1m 15s\tremaining: 5.7s\n",
      "93:\tlearn: 4.9133331\ttotal: 1m 16s\tremaining: 4.88s\n",
      "94:\tlearn: 4.8824540\ttotal: 1m 17s\tremaining: 4.08s\n",
      "95:\tlearn: 4.8531122\ttotal: 1m 18s\tremaining: 3.26s\n",
      "96:\tlearn: 4.8244358\ttotal: 1m 18s\tremaining: 2.44s\n",
      "97:\tlearn: 4.7974527\ttotal: 1m 19s\tremaining: 1.63s\n",
      "98:\tlearn: 4.7725951\ttotal: 1m 20s\tremaining: 811ms\n",
      "99:\tlearn: 4.7489447\ttotal: 1m 21s\tremaining: 0us\n"
     ]
    },
    {
     "data": {
      "text/plain": [
       "<catboost.core.CatBoostRegressor at 0x20829e6dd68>"
      ]
     },
     "execution_count": 8,
     "metadata": {},
     "output_type": "execute_result"
    }
   ],
   "source": [
    "cataboost.fit(train_data)"
   ]
  },
  {
   "cell_type": "code",
   "execution_count": 9,
   "metadata": {},
   "outputs": [],
   "source": [
    "train_pred = cataboost.predict(X_val)"
   ]
  },
  {
   "cell_type": "code",
   "execution_count": 10,
   "metadata": {},
   "outputs": [
    {
     "data": {
      "text/plain": [
       "-0.18845391892639718"
      ]
     },
     "execution_count": 10,
     "metadata": {},
     "output_type": "execute_result"
    }
   ],
   "source": [
    "cataboost.score(train_pred, y_val)"
   ]
  },
  {
   "cell_type": "code",
   "execution_count": 11,
   "metadata": {},
   "outputs": [
    {
     "data": {
      "text/plain": [
       "22.57594121130336"
      ]
     },
     "execution_count": 11,
     "metadata": {},
     "output_type": "execute_result"
    }
   ],
   "source": [
    "mean_squared_error(train_pred, y_val)"
   ]
  },
  {
   "cell_type": "code",
   "execution_count": 12,
   "metadata": {},
   "outputs": [
    {
     "data": {
      "text/plain": [
       "4.751414653690347"
      ]
     },
     "execution_count": 12,
     "metadata": {},
     "output_type": "execute_result"
    }
   ],
   "source": [
    "np.sqrt(mean_squared_error(train_pred, y_val))"
   ]
  },
  {
   "cell_type": "code",
   "execution_count": 13,
   "metadata": {},
   "outputs": [
    {
     "data": {
      "text/plain": [
       "[('distance', 21.820800974826096),\n",
       " ('alpha_angle', 0.025091529414697104),\n",
       " ('beta_angle', 0.06032721772474468),\n",
       " ('gamma_angle', 0.06473662817653772),\n",
       " ('1JHC', 58.17466736045731),\n",
       " ('1JHN', 1.4889406874713738),\n",
       " ('2JHC', 0.38883698350213125),\n",
       " ('2JHH', 14.799766555827933),\n",
       " ('C_atom_1', 2.103070537859311),\n",
       " ('H_atom_1', 0.4287789344614917),\n",
       " ('N_atom_1', 0.6449825902783589)]"
      ]
     },
     "execution_count": 13,
     "metadata": {},
     "output_type": "execute_result"
    }
   ],
   "source": [
    "list(zip(train_set.columns, cataboost.feature_importances_))"
   ]
  },
  {
   "cell_type": "code",
   "execution_count": null,
   "metadata": {},
   "outputs": [],
   "source": []
  }
 ],
 "metadata": {
  "kernelspec": {
   "display_name": "Python 3",
   "language": "python",
   "name": "python3"
  },
  "language_info": {
   "codemirror_mode": {
    "name": "ipython",
    "version": 3
   },
   "file_extension": ".py",
   "mimetype": "text/x-python",
   "name": "python",
   "nbconvert_exporter": "python",
   "pygments_lexer": "ipython3",
   "version": "3.6.4"
  }
 },
 "nbformat": 4,
 "nbformat_minor": 2
}
